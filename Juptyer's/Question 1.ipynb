{
 "cells": [
  {
   "cell_type": "code",
   "execution_count": 1,
   "metadata": {
    "collapsed": false
   },
   "outputs": [
    {
     "data": {
      "text/plain": [
       "'file://D:\\\\Callum Price\\\\Documents\\\\Comp Phys\\\\Python\\\\Data Visualisation\\\\SphereTest.html'"
      ]
     },
     "execution_count": 1,
     "metadata": {},
     "output_type": "execute_result"
    }
   ],
   "source": [
    "#cc5a9a33ad4077c2172158514a9b2531c0f2b249e7240f49\n",
    "from numpy import *\n",
    "import plotly\n",
    "from plotly.graph_objs import *\n",
    "theta = linspace(0,2*pi,100)\n",
    "phi = linspace(0,pi,100)\n",
    "x = outer(cos(theta),sin(phi))\n",
    "y = outer(sin(theta),sin(phi))\n",
    "z = outer(ones(100),cos(phi))\n",
    "\n",
    "data = [ Scatter3d(\n",
    "        mode='markers',\n",
    "        x=x,y=y,z=z\n",
    "    )]\n",
    "layout = Layout(\n",
    "    title='Bloch sphere',\n",
    "    autosize=False,\n",
    "    width=1000,\n",
    "    height=1000,\n",
    "    margin=Margin(\n",
    "        l=65,\n",
    "        r=50,\n",
    "        b=65,\n",
    "        t=90))\n",
    "fig = Figure(data=data, layout=layout)\n",
    "\n",
    "plotly.offline.plot(fig, filename = 'SphereTest.html')"
   ]
  },
  {
   "cell_type": "code",
   "execution_count": 13,
   "metadata": {},
   "outputs": [],
   "source": []
  },
  {
   "cell_type": "code",
   "execution_count": 13,
   "metadata": {},
   "outputs": [],
   "source": []
  },
  {
   "cell_type": "code",
   "execution_count": 13,
   "metadata": {},
   "outputs": [],
   "source": []
  },
  {
   "cell_type": "code",
   "execution_count": 13,
   "metadata": {},
   "outputs": [],
   "source": []
  },
  {
   "cell_type": "code",
   "execution_count": 13,
   "metadata": {},
   "outputs": [],
   "source": []
  }
 ],
 "metadata": {
  "kernelspec": {
   "display_name": "Python 2",
   "language": "python",
   "name": "python2"
  },
  "language_info": {
   "codemirror_mode": {
    "name": "ipython",
    "version": 2
   },
   "file_extension": ".py",
   "mimetype": "text/x-python",
   "name": "python",
   "nbconvert_exporter": "python",
   "pygments_lexer": "ipython2",
   "version": "2.7.6"
  }
 },
 "nbformat": 4,
 "nbformat_minor": 0
}
